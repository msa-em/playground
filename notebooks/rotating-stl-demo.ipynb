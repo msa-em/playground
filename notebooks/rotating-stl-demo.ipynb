{
 "cells": [
  {
   "cell_type": "code",
   "execution_count": 74,
   "id": "8fd830d8-12fb-457f-9125-be63c5912638",
   "metadata": {},
   "outputs": [],
   "source": [
    "import k3d\n",
    "from k3d.transform import process_transform_arguments\n",
    "import ipywidgets\n",
    "import numpy as np\n",
    "\n",
    "with open('data/Rubber_Duck_Flat.stl', 'rb') as stl:\n",
    "    data = stl.read()\n",
    "\n",
    "plt_duck = [\n",
    "    k3d.stl(\n",
    "        data,\n",
    "        # wireframe=True,\n",
    "        color=0x008000,\n",
    "    )\n",
    "]\n",
    "\n",
    "plot = k3d.plot(\n",
    "    grid_visible=False, # hide grid\n",
    "    axes_helper=0, # hide axes\n",
    "    menu_visibility=False, # hide menu\n",
    "    camera_no_rotate=True, # disable rotation\n",
    ")\n",
    "plot += plt_duck[0]"
   ]
  },
  {
   "cell_type": "code",
   "execution_count": 75,
   "id": "8389e012-2957-40f7-83c0-882a06340c3a",
   "metadata": {},
   "outputs": [],
   "source": [
    "layout = ipywidgets.Layout(width=\"400px\")\n",
    "\n",
    "out = ipywidgets.Output(layout=layout)\n",
    "with out:\n",
    "    plot.display()\n",
    "\n",
    "alpha_slider = ipywidgets.FloatSlider(\n",
    "    value=0,\n",
    "    min=-70,\n",
    "    max=70,\n",
    "    step=0.5,\n",
    "    description='alpha [deg]',\n",
    "    continuous_update=False,\n",
    "    layout=layout\n",
    ")\n",
    "\n",
    "beta_slider = ipywidgets.FloatSlider(\n",
    "    value=0,\n",
    "    min=-70,\n",
    "    max=70,\n",
    "    step=0.5,\n",
    "    description='beta [deg]',\n",
    "    continuous_update=False,\n",
    "    layout=layout\n",
    ")\n",
    "\n",
    "def return_alpha_tilt(tilt_deg):\n",
    "    return k3d.transform(\n",
    "        rotation=[np.deg2rad(tilt_deg),1,0,0]\n",
    ")\n",
    "\n",
    "def return_beta_tilt(tilt_deg):\n",
    "    return k3d.transform(\n",
    "        rotation=[np.deg2rad(tilt_deg),0,1,0]\n",
    ")\n",
    "\n",
    "def tilt_alpha(change):\n",
    "    alpha_deg = change['new']\n",
    "    tf = return_alpha_tilt(alpha_deg)\n",
    "    \n",
    "    plt_duck[0] = process_transform_arguments(\n",
    "        plt_duck[0],\n",
    "        transform = tf,\n",
    "    )\n",
    "\n",
    "def tilt_beta(change):\n",
    "    beta_deg = change['new']\n",
    "    tf = return_beta_tilt(beta_deg)\n",
    "    \n",
    "    plt_duck[0] = process_transform_arguments(\n",
    "        plt_duck[0],\n",
    "        transform = tf,\n",
    "    )\n",
    "\n",
    "alpha_slider.observe(tilt_alpha,'value')\n",
    "beta_slider.observe(tilt_beta,'value')"
   ]
  },
  {
   "cell_type": "code",
   "execution_count": 77,
   "id": "0336aece-543e-406d-8d4f-5727dc94b9b3",
   "metadata": {},
   "outputs": [
    {
     "data": {
      "application/vnd.jupyter.widget-view+json": {
       "model_id": "cff5d5f1f45142619047ad80c13ceca3",
       "version_major": 2,
       "version_minor": 0
      },
      "text/plain": [
       "VBox(children=(Output(layout=Layout(width='400px'), outputs=({'output_type': 'display_data', 'data': {'text/pl…"
      ]
     },
     "execution_count": 77,
     "metadata": {},
     "output_type": "execute_result"
    }
   ],
   "source": [
    "#| label: rotated_stl\n",
    "ipywidgets.VBox(\n",
    "    [\n",
    "        out,\n",
    "        alpha_slider,\n",
    "        beta_slider\n",
    "    ]\n",
    ")"
   ]
  }
 ],
 "metadata": {
  "kernelspec": {
   "display_name": "Python 3 (ipykernel)",
   "language": "python",
   "name": "python3"
  },
  "language_info": {
   "codemirror_mode": {
    "name": "ipython",
    "version": 3
   },
   "file_extension": ".py",
   "mimetype": "text/x-python",
   "name": "python",
   "nbconvert_exporter": "python",
   "pygments_lexer": "ipython3",
   "version": "3.12.3"
  }
 },
 "nbformat": 4,
 "nbformat_minor": 5
}
