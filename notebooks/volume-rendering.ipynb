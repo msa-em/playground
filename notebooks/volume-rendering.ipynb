{
 "cells": [
  {
   "cell_type": "code",
   "execution_count": 4,
   "id": "94db5f56-c92f-4b61-aa9d-cc16cc074e40",
   "metadata": {},
   "outputs": [],
   "source": [
    "import numpy as np\n",
    "from tifffile import imread\n",
    "import k3d"
   ]
  },
  {
   "cell_type": "code",
   "execution_count": 43,
   "id": "e0592725-d96b-462a-aa3f-5ea90c682235",
   "metadata": {},
   "outputs": [],
   "source": [
    "# Load the TIFF file into a NumPy array\n",
    "tiff_array = imread(\n",
    "    'data/Li_and_Cu_segmented_SaveImage11-19.align.view.labels_3dtiff.tif'\n",
    ").transpose(1,2,0).astype(np.float16)\n",
    "\n",
    "# nx, ny, nz = tiff_array.shape"
   ]
  },
  {
   "cell_type": "code",
   "execution_count": 44,
   "id": "678530da-094b-42f0-b57e-998b42f28f31",
   "metadata": {},
   "outputs": [],
   "source": [
    "vol = k3d.volume(\n",
    "    tiff_array, \n",
    "    color_range=[0,3],\n",
    "    # bounds=[0, nz, 0, ny, 0, nx],\n",
    ")"
   ]
  },
  {
   "cell_type": "code",
   "execution_count": 46,
   "id": "7796e867-b683-4f39-99e8-2c0250c34d90",
   "metadata": {},
   "outputs": [
    {
     "data": {
      "application/vnd.jupyter.widget-view+json": {
       "model_id": "970bcc9e187545c2b32cbbdf2e77c59f",
       "version_major": 2,
       "version_minor": 0
      },
      "text/plain": [
       "Output()"
      ]
     },
     "metadata": {},
     "output_type": "display_data"
    }
   ],
   "source": [
    "#| label: labeled_vol\n",
    "plot = k3d.plot(\n",
    "    grid_visible=False, # hide grid\n",
    "    axes_helper=0, # hide axes\n",
    "    menu_visibility=False, # hide menu\n",
    "    colorbar_object_id=0,\n",
    ")\n",
    "plot += vol\n",
    "\n",
    "plot.display()"
   ]
  },
  {
   "cell_type": "code",
   "execution_count": null,
   "id": "9b3c402a-2080-498e-82cf-f2373e04b2cb",
   "metadata": {},
   "outputs": [],
   "source": []
  }
 ],
 "metadata": {
  "kernelspec": {
   "display_name": "Python 3 (ipykernel)",
   "language": "python",
   "name": "python3"
  },
  "language_info": {
   "codemirror_mode": {
    "name": "ipython",
    "version": 3
   },
   "file_extension": ".py",
   "mimetype": "text/x-python",
   "name": "python",
   "nbconvert_exporter": "python",
   "pygments_lexer": "ipython3",
   "version": "3.12.3"
  }
 },
 "nbformat": 4,
 "nbformat_minor": 5
}
